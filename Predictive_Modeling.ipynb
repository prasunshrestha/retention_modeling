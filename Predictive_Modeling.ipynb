{
 "cells": [
  {
   "cell_type": "code",
   "execution_count": 34,
   "metadata": {},
   "outputs": [],
   "source": [
    "import pandas as pd\n",
    "import numpy as np\n",
    "import random\n",
    "import seaborn as sns\n",
    "from numpy import mean\n",
    "from sklearn import svm as svm\n",
    "from sklearn.linear_model import LogisticRegression\n",
    "from sklearn.model_selection import train_test_split\n",
    "from sklearn.model_selection import StratifiedKFold\n",
    "from sklearn.model_selection import RepeatedStratifiedKFold\n",
    "from sklearn.model_selection import cross_val_score\n",
    "from sklearn.ensemble import RandomForestClassifier\n",
    "from imblearn.ensemble import BalancedRandomForestClassifier\n",
    "from imblearn.ensemble import EasyEnsembleClassifier\n",
    "from imblearn.over_sampling import SMOTE\n",
    "\n",
    "from sklearn.metrics import r2_score, roc_auc_score, accuracy_score, f1_score, confusion_matrix, precision_score, recall_score\n",
    "\n",
    "from sklearn.utils import resample\n",
    "random.seed(123)\n",
    "\n",
    "# import xgboost as xgb\n",
    "from sklearn.model_selection import GridSearchCV\n",
    "pd.set_option('display.max_columns', 500)"
   ]
  },
  {
   "cell_type": "code",
   "execution_count": 3,
   "metadata": {},
   "outputs": [],
   "source": [
    "# read csv file\n",
    "df = pd.read_csv('T2.csv', low_memory=False)"
   ]
  },
  {
   "cell_type": "code",
   "execution_count": 4,
   "metadata": {},
   "outputs": [
    {
     "name": "stdout",
     "output_type": "stream",
     "text": [
      "Sample Size: 22992\n",
      "# of predictors: 318\n"
     ]
    }
   ],
   "source": [
    "print(\"Sample Size:\", df.shape[0])\n",
    "print(\"# of predictors:\", df.shape[1])"
   ]
  },
  {
   "cell_type": "code",
   "execution_count": 5,
   "metadata": {},
   "outputs": [],
   "source": [
    "# Required Variables, Features, and Label\n",
    "\n",
    "req_vars = ['SwellOneExit', 'YearsAsCoach', 'DaysTSubmitNoMissing',\n",
    "       'FitNoMissing', 'RelationshipBuildingNoMissing',\n",
    "       'FinalAchievementNoMissing', 'CommAndPresNoMissing',\n",
    "       'PredModelScoreNoMissing', 'CMProspectRatingNoMissing',\n",
    "       'AgeAtFDOSNoMissing', 'SchoolSelectivityNoMissing',\n",
    "       'CumuGPANoMissing', 'PerseveranceNoMissing', 'FRPLNoMissing',\n",
    "       'YearsSchoolPartnerNoMissing', 'YearsPartnerPartnerNoMissing',\n",
    "       'FirstYearsInSchoolNoMissing', 'SecondYearsInSchoolNoMissing',\n",
    "       'CMsInSchoolNoMissing', 'CertProgramCostNoMissing',\n",
    "       'AvgFirstMonthSalNoMissing', 'RentPropNoMissing',\n",
    "       'AvgRentNoMissing', 'CorpsSizeNoMissing', 'RegPrefLevNoMissing',\n",
    "       'CSI6NoMissing', 'CSI5NoMissing', 'CSI3NoMissing',\n",
    "       'CSI12NoMissing', 'CLI8NoMissing', 'CLI6NoMissing',\n",
    "       'OtherCMsSameCoachNoMissing', 'OtherCMsPrevCoachNoMissing',\n",
    "       'K12TeachNo', 'K12TeachYes', 'K12TeachNull', 'HadFamRespNo',\n",
    "       'HadFamRespYes', 'HadFamRespNull', 'PellGrantNoOrMissing',\n",
    "       'PellGrantYes', 'GenderFemale', 'GenderMale', 'CalcGradStudent',\n",
    "       'CalcJunior', 'CalcProfessional', 'CalcUndergrad', 'CalcUnknown',\n",
    "       'AttendLIC_HS_No', 'AttendLIC_HS_Yes', 'AttendLIC_HS_Unknown',\n",
    "       'GrewUpLIC_No_Or_Unknown', 'GrewUpLIC_Yes',\n",
    "       'LIC_Served_No_Or_Unknown', 'LIC_Served_Yes', 'Eth_Black',\n",
    "       'Eth_Native', 'Eth_AsianAmPacIsl', 'Eth_Latinx',\n",
    "       'Eth_MultiEthMultiRacial', 'Eth_OtherOrUnknown', 'Eth_White',\n",
    "       'VarsitySport_No_Or_Unknown', 'VarsitySport_Yes',\n",
    "       'DeferralRequested', 'DeferralNotRequested', 'Title1No',\n",
    "       'Title1Yes', 'Grade_ECE', 'Grade_HIGH', 'Grade_LOWELEM',\n",
    "       'Grade_MIDDLE', 'Grade_UPPERELEM', 'Grade_Unknown',\n",
    "       'School_Charter', 'School_Public', 'School_Other', 'LGB_NoProtect',\n",
    "       'LGB_LocalProtect', 'LGB_StateProtect', 'TeacherPP_No',\n",
    "       'TeacherPP_Yes', 'Region_Large', 'Region_Medium', 'Region_Small',\n",
    "       'Urbanicity_Both', 'Urbanicity_Rural', 'Urbanicity_Urban',\n",
    "       'COL_High', 'COL_Low', 'COL_Medium', 'MajorTeaching_Match',\n",
    "       'MajorTeaching_Mismatch', 'MajorOffered_Match',\n",
    "       'MajorOffered_Mismatch']\n",
    "\n",
    "df = df[req_vars] # updating the dataframe\n",
    "Y = df['SwellOneExit']\n",
    "X = df.drop('SwellOneExit', axis=1)"
   ]
  },
  {
   "cell_type": "code",
   "execution_count": 7,
   "metadata": {
    "scrolled": true
   },
   "outputs": [],
   "source": [
    "# training test split\n",
    "\n",
    "train_features, test_features, train_labels, test_labels = train_test_split(X, Y, test_size = 0.2, random_state=123)"
   ]
  },
  {
   "cell_type": "code",
   "execution_count": 8,
   "metadata": {},
   "outputs": [
    {
     "data": {
      "image/png": "[encoded data removed]",
      "text/plain": [
       "<Figure size 432x288 with 1 Axes>"
      ]
     },
     "metadata": {
      "needs_background": "light"
     },
     "output_type": "display_data"
    }
   ],
   "source": [
    "# baseline\n",
    "y = df['SwellOneExit']\n",
    "\n",
    "hst = sns.countplot(x = y, data = df)"
   ]
  },
  {
   "cell_type": "code",
   "execution_count": null,
   "metadata": {},
   "outputs": [],
   "source": []
  },
  {
   "cell_type": "code",
   "execution_count": 9,
   "metadata": {},
   "outputs": [
    {
     "data": {
      "text/plain": [
       "1    17662\n",
       "0    17662\n",
       "Name: SwellOneExit, dtype: int64"
      ]
     },
     "execution_count": 9,
     "metadata": {},
     "output_type": "execute_result"
    }
   ],
   "source": [
    "#Oversampling the minority class \n",
    "df_ovsmpl = pd.concat([train_features, train_labels], axis=1)\n",
    "\n",
    "\n",
    "df_majority = df_ovsmpl[df_ovsmpl.SwellOneExit==0]\n",
    "df_minority = df_ovsmpl[df_ovsmpl.SwellOneExit==1]\n",
    "\n",
    "# Upsample minority class\n",
    "df_minority_upsampled = resample(df_minority, \n",
    "                                 replace=True,     # sample with replacement\n",
    "                                 n_samples=len(df_majority),    # to match majority class\n",
    "                                 random_state=123) # reproducible results\n",
    " \n",
    "# Combine majority class with upsampled minority class\n",
    "df_upsampled = pd.concat([df_majority, df_minority_upsampled])\n",
    " \n",
    "# Display new class counts\n",
    "df_upsampled.SwellOneExit.value_counts()"
   ]
  },
  {
   "cell_type": "code",
   "execution_count": 10,
   "metadata": {},
   "outputs": [],
   "source": [
    "upsmpl_Y = df_upsampled['SwellOneExit']\n",
    "upsmpl_X = df_upsampled.drop('SwellOneExit', axis=1)\n",
    "\n",
    "# training test split of the oversampled dataframe\n",
    "\n",
    "upsmpl_train_features, upsmpl_test_features, upsmpl_train_labels, upsmpl_test_labels = train_test_split(upsmpl_X, upsmpl_Y, test_size = 0.2, random_state=123)\n",
    "\n"
   ]
  },
  {
   "cell_type": "code",
   "execution_count": 11,
   "metadata": {},
   "outputs": [
    {
     "name": "stdout",
     "output_type": "stream",
     "text": [
      "Accuracy: 0.9639051967819091 \n",
      " Precision:  0.9295249331298358 \n",
      " Recall: 0.0 \n",
      " F1 score: 0.0 \n",
      " ROC-AUC: 0.4998872350022553\n"
     ]
    }
   ],
   "source": [
    "# random forest \n",
    "rf_upsampled = RandomForestClassifier(n_estimators = 1000, random_state=0, n_jobs=-1)\n",
    "\n",
    "# train model\n",
    "rf_upsampled_mdl = rf_upsampled.fit(upsmpl_train_features, upsmpl_train_labels)\n",
    "\n",
    "# test model\n",
    "rf_upsampled_pred = rf_upsampled_mdl.predict(test_features)\n",
    "\n",
    "rf_acc_score = accuracy_score(test_labels, rf_upsampled_pred)\n",
    "rf_prec_score = precision_score(test_labels, rf_upsampled_pred, average='weighted')\n",
    "rf_rec_score = recall_score(test_labels, rf_upsampled_pred)\n",
    "rf_roc_auc = roc_auc_score(test_labels, rf_upsampled_pred)\n",
    "rf_f1_score = f1_score(test_labels, rf_upsampled_pred)\n",
    "\n",
    "print(\"Accuracy:\", rf_acc_score, \"\\n\", \"Precision: \", rf_prec_score, \"\\n\", \"Recall:\", rf_rec_score, \"\\n\", \"F1 score:\", rf_f1_score, \"\\n\", \"ROC-AUC:\", rf_roc_auc)"
   ]
  },
  {
   "cell_type": "code",
   "execution_count": 12,
   "metadata": {},
   "outputs": [
    {
     "name": "stdout",
     "output_type": "stream",
     "text": [
      "Accuracy: 0.6366601435094585 \n",
      " Precision:  0.9405497622840358 \n",
      " Recall: 0.5333333333333333 \n",
      " F1 score: 0.09528965890633459 \n",
      " ROC-AUC: 0.5869192602616148\n"
     ]
    }
   ],
   "source": [
    "# logistic regression\n",
    "lr_upsampled = LogisticRegression(solver='liblinear')\n",
    "\n",
    "# train model\n",
    "lr_upsampled_mdl = lr_upsampled.fit(upsmpl_train_features, upsmpl_train_labels)\n",
    "\n",
    "# test model\n",
    "lr_upsampled_pred = lr_upsampled_mdl.predict(test_features)\n",
    "\n",
    "lr_acc_score = accuracy_score(test_labels, lr_upsampled_pred)\n",
    "lr_prec_score = precision_score(test_labels, lr_upsampled_pred, average='weighted')\n",
    "lr_rec_score = recall_score(test_labels, lr_upsampled_pred)\n",
    "lr_roc_auc = roc_auc_score(test_labels, lr_upsampled_pred)\n",
    "lr_f1_score = f1_score(test_labels, lr_upsampled_pred)\n",
    "\n",
    "print(\"Accuracy:\", lr_acc_score, \"\\n\", \"Precision: \", lr_prec_score, \"\\n\", \"Recall:\", lr_rec_score, \"\\n\", \"F1 score:\", lr_f1_score, \"\\n\", \"ROC-AUC:\", lr_roc_auc)"
   ]
  },
  {
   "cell_type": "code",
   "execution_count": 13,
   "metadata": {},
   "outputs": [],
   "source": [
    "#support vector machine\n",
    "svm_upsampled = svm.SVC()\n",
    "\n",
    "# train model\n",
    "svm_upsampled_mdl = svm_upsampled.fit(upsmpl_train_features, upsmpl_train_labels)\n",
    "\n",
    "# test model\n",
    "svm_upsampled_mdl_pred = lr_upsampled_mdl.predict(test_features)\n"
   ]
  },
  {
   "cell_type": "code",
   "execution_count": 15,
   "metadata": {},
   "outputs": [
    {
     "name": "stdout",
     "output_type": "stream",
     "text": [
      "Accuracy: 0.6366601435094585 \n",
      " Precision:  0.9405497622840358 \n",
      " Recall: 0.5333333333333333 \n",
      " F1 score: 0.09528965890633459 \n",
      " ROC-AUC: 0.5869192602616148\n"
     ]
    }
   ],
   "source": [
    "svm_acc_score = accuracy_score(test_labels, svm_upsampled_mdl_pred)\n",
    "svm_prec_score = precision_score(test_labels, svm_upsampled_mdl_pred, average='weighted')\n",
    "svm_rec_score = recall_score(test_labels, svm_upsampled_mdl_pred)\n",
    "svm_roc_auc = roc_auc_score(test_labels, svm_upsampled_mdl_pred)\n",
    "svm_f1_score = f1_score(test_labels, svm_upsampled_mdl_pred)\n",
    "\n",
    "print(\"Accuracy:\", svm_acc_score, \"\\n\", \"Precision: \", svm_prec_score, \"\\n\", \"Recall:\", svm_rec_score, \"\\n\", \"F1 score:\", svm_f1_score, \"\\n\", \"ROC-AUC:\", svm_roc_auc)"
   ]
  },
  {
   "cell_type": "code",
   "execution_count": 34,
   "metadata": {},
   "outputs": [],
   "source": [
    "label = df_upsampled['SwellOneExit']\n",
    "features = df_upsampled.drop('SwellOneExit', axis=1)\n",
    "\n",
    "# training test split\n",
    "\n",
    "train_features, test_features, train_labels, test_labels = train_test_split(features, label, test_size = 0.2, stratify=label)\n"
   ]
  },
  {
   "cell_type": "code",
   "execution_count": null,
   "metadata": {},
   "outputs": [],
   "source": []
  },
  {
   "cell_type": "code",
   "execution_count": 16,
   "metadata": {},
   "outputs": [
    {
     "data": {
      "text/plain": [
       "1    731\n",
       "0    731\n",
       "Name: SwellOneExit, dtype: int64"
      ]
     },
     "execution_count": 16,
     "metadata": {},
     "output_type": "execute_result"
    }
   ],
   "source": [
    "#Undersampling the majority class \n",
    "df_undsmpl = pd.concat([train_features, train_labels], axis=1)\n",
    "\n",
    "\n",
    "df_undsmpl_majority = df_undsmpl[df_undsmpl.SwellOneExit==0]\n",
    "df_undsmpl_minority = df_undsmpl[df_undsmpl.SwellOneExit==1]\n",
    "\n",
    "# Upsample minority class\n",
    "df_majority_undsampled = resample(df_undsmpl_majority, \n",
    "                                 replace=False,     # sample with replacement\n",
    "                                 n_samples=len(df_undsmpl_minority),    # to match majority class\n",
    "                                 random_state=123) # reproducible results\n",
    " \n",
    "# Combine majority class with upsampled minority class\n",
    "df_undsampled = pd.concat([df_majority_undsampled, df_undsmpl_minority])\n",
    " \n",
    "# Display new class counts\n",
    "df_undsampled.SwellOneExit.value_counts()"
   ]
  },
  {
   "cell_type": "code",
   "execution_count": 17,
   "metadata": {},
   "outputs": [],
   "source": [
    "undsmpl_Y = df_undsampled['SwellOneExit']\n",
    "undsmpl_X = df_undsampled.drop('SwellOneExit', axis=1)\n",
    "\n",
    "# training test split of the undersampled dataframe\n",
    "\n",
    "undsmpl_train_features, undsmpl_test_features, undsmpl_train_labels, undsmpl_test_labels = train_test_split(undsmpl_X, undsmpl_Y, test_size = 0.2, random_state=123)\n",
    "\n"
   ]
  },
  {
   "cell_type": "code",
   "execution_count": 18,
   "metadata": {},
   "outputs": [
    {
     "name": "stdout",
     "output_type": "stream",
     "text": [
      "Accuracy: 0.6103500761035008 \n",
      " Precision:  0.9420864456137802 \n",
      " Recall: 0.5818181818181818 \n",
      " F1 score: 0.09677419354838711 \n",
      " ROC-AUC: 0.5966149997949727\n"
     ]
    }
   ],
   "source": [
    "# random forest \n",
    "rf_downsampled = RandomForestClassifier(n_estimators = 1000, random_state=0, n_jobs=-1)\n",
    "\n",
    "# train model\n",
    "rf_downsampled_mdl = rf_downsampled.fit(undsmpl_train_features, undsmpl_train_labels)\n",
    "\n",
    "# test model\n",
    "rf_downsampled_pred = rf_downsampled_mdl.predict(test_features)\n",
    "\n",
    "rf_dwnsmpl_acc_score = accuracy_score(test_labels, rf_downsampled_pred)\n",
    "rf_dwnsmpl_rec_score = recall_score(test_labels, rf_downsampled_pred)\n",
    "rf_dwnsmpl_roc_auc = roc_auc_score(test_labels, rf_downsampled_pred)\n",
    "rf_dwnsmpl_prec_score = precision_score(test_labels, rf_downsampled_pred, average='weighted')\n",
    "rf_dwnsmpl_f1_score = f1_score(test_labels, rf_downsampled_pred)\n",
    "\n",
    "print(\"Accuracy:\", rf_dwnsmpl_acc_score, \"\\n\", \"Precision: \", rf_dwnsmpl_prec_score, \"\\n\", \"Recall:\", rf_dwnsmpl_rec_score, \"\\n\", \"F1 score:\", rf_dwnsmpl_f1_score, \"\\n\", \"ROC-AUC:\", rf_dwnsmpl_roc_auc)\n"
   ]
  },
  {
   "cell_type": "code",
   "execution_count": 20,
   "metadata": {},
   "outputs": [
    {
     "name": "stdout",
     "output_type": "stream",
     "text": [
      "Accuracy: 0.5992607088497499 \n",
      " Precision:  0.942293792646171 \n",
      " Recall: 0.593939393939394 \n",
      " F1 score: 0.09612555174104953 \n",
      " ROC-AUC: 0.5966990609751097\n"
     ]
    }
   ],
   "source": [
    "# logistic regression\n",
    "lr_undsampled = LogisticRegression(solver='liblinear')\n",
    "\n",
    "# train model\n",
    "lr_undsampled_mdl = lr_undsampled.fit(undsmpl_train_features, undsmpl_train_labels)\n",
    "\n",
    "# test model\n",
    "lr_undsampled_pred = lr_undsampled_mdl.predict(test_features)\n",
    "\n",
    "lr_dwnsmpl_acc_score = accuracy_score(test_labels, lr_undsampled_pred)\n",
    "lr_dwnsmpl_prec_score = precision_score(test_labels, lr_undsampled_pred, average='weighted')\n",
    "lr_dwnsmpl_rec_score = recall_score(test_labels, lr_undsampled_pred)\n",
    "lr_dwnsmpl_roc_auc = roc_auc_score(test_labels, lr_undsampled_pred)\n",
    "lr_dwnsmpl_f1_score = f1_score(test_labels, lr_undsampled_pred)\n",
    "\n",
    "print(\"Accuracy:\", lr_dwnsmpl_acc_score, \"\\n\", \"Precision: \", lr_dwnsmpl_prec_score, \"\\n\", \"Recall:\", lr_dwnsmpl_rec_score, \"\\n\", \"F1 score:\", lr_dwnsmpl_f1_score, \"\\n\", \"ROC-AUC:\", lr_dwnsmpl_roc_auc)\n"
   ]
  },
  {
   "cell_type": "code",
   "execution_count": 22,
   "metadata": {},
   "outputs": [
    {
     "name": "stdout",
     "output_type": "stream",
     "text": [
      "Accuracy: 0.4511850402261361 \n",
      " Precision:  0.9366335209087439 \n",
      " Recall: 0.6303030303030303 \n",
      " F1 score: 0.0761346998535871 \n",
      " ROC-AUC: 0.537411325706319\n"
     ]
    }
   ],
   "source": [
    "#support vector machine\n",
    "svm_undsampled = svm.SVC()\n",
    "\n",
    "# train model\n",
    "svm_undsampled_mdl = svm_undsampled.fit(undsmpl_train_features, undsmpl_train_labels)\n",
    "\n",
    "# test model\n",
    "svm_undsampled_mdl_pred = svm_undsampled_mdl.predict(test_features)\n",
    "\n",
    "svm_acc_score = accuracy_score(test_labels, svm_undsampled_mdl_pred)\n",
    "svm_prec_score = precision_score(test_labels, svm_undsampled_mdl_pred, average='weighted')\n",
    "svm_rec_score = recall_score(test_labels, svm_undsampled_mdl_pred)\n",
    "svm_roc_auc = roc_auc_score(test_labels, svm_undsampled_mdl_pred)\n",
    "svm_f1_score = f1_score(test_labels, svm_undsampled_mdl_pred)\n",
    "\n",
    "print(\"Accuracy:\", svm_acc_score, \"\\n\", \"Precision: \", svm_prec_score, \"\\n\", \"Recall:\", svm_rec_score, \"\\n\", \"F1 score:\", svm_f1_score, \"\\n\", \"ROC-AUC:\", svm_roc_auc)\n"
   ]
  },
  {
   "cell_type": "code",
   "execution_count": 35,
   "metadata": {},
   "outputs": [
    {
     "ename": "TypeError",
     "evalue": "__init__() got an unexpected keyword argument 'ratio'",
     "output_type": "error",
     "traceback": [
      "\u001b[0;31m---------------------------------------------------------------------------\u001b[0m",
      "\u001b[0;31mTypeError\u001b[0m                                 Traceback (most recent call last)",
      "\u001b[0;32m<ipython-input-35-5be847ad16b8>\u001b[0m in \u001b[0;36m<module>\u001b[0;34m\u001b[0m\n\u001b[1;32m      9\u001b[0m \u001b[0mX_train\u001b[0m\u001b[0;34m,\u001b[0m \u001b[0mX_test\u001b[0m\u001b[0;34m,\u001b[0m \u001b[0my_train\u001b[0m\u001b[0;34m,\u001b[0m \u001b[0my_test\u001b[0m \u001b[0;34m=\u001b[0m \u001b[0mtrain_test_split\u001b[0m\u001b[0;34m(\u001b[0m\u001b[0msm_x\u001b[0m\u001b[0;34m,\u001b[0m \u001b[0msm_y\u001b[0m\u001b[0;34m,\u001b[0m \u001b[0mtest_size\u001b[0m\u001b[0;34m=\u001b[0m\u001b[0;36m0.2\u001b[0m\u001b[0;34m,\u001b[0m \u001b[0mrandom_state\u001b[0m\u001b[0;34m=\u001b[0m\u001b[0;36m123\u001b[0m\u001b[0;34m)\u001b[0m\u001b[0;34m\u001b[0m\u001b[0;34m\u001b[0m\u001b[0m\n\u001b[1;32m     10\u001b[0m \u001b[0;34m\u001b[0m\u001b[0m\n\u001b[0;32m---> 11\u001b[0;31m \u001b[0msm\u001b[0m \u001b[0;34m=\u001b[0m \u001b[0mSMOTE\u001b[0m\u001b[0;34m(\u001b[0m\u001b[0mrandom_state\u001b[0m\u001b[0;34m=\u001b[0m\u001b[0;36m123\u001b[0m\u001b[0;34m,\u001b[0m \u001b[0mratio\u001b[0m\u001b[0;34m=\u001b[0m\u001b[0;36m1.0\u001b[0m\u001b[0;34m)\u001b[0m\u001b[0;34m\u001b[0m\u001b[0;34m\u001b[0m\u001b[0m\n\u001b[0m\u001b[1;32m     12\u001b[0m \u001b[0mX_train\u001b[0m\u001b[0;34m,\u001b[0m \u001b[0my_train\u001b[0m \u001b[0;34m=\u001b[0m \u001b[0msm\u001b[0m\u001b[0;34m.\u001b[0m\u001b[0mfit_sample\u001b[0m\u001b[0;34m(\u001b[0m\u001b[0mX_train\u001b[0m\u001b[0;34m,\u001b[0m \u001b[0my_train\u001b[0m\u001b[0;34m)\u001b[0m\u001b[0;34m\u001b[0m\u001b[0;34m\u001b[0m\u001b[0m\n",
      "\u001b[0;32m~/opt/anaconda3/lib/python3.7/site-packages/imblearn/utils/_validation.py\u001b[0m in \u001b[0;36minner_f\u001b[0;34m(*args, **kwargs)\u001b[0m\n\u001b[1;32m    638\u001b[0m                           FutureWarning)\n\u001b[1;32m    639\u001b[0m         \u001b[0mkwargs\u001b[0m\u001b[0;34m.\u001b[0m\u001b[0mupdate\u001b[0m\u001b[0;34m(\u001b[0m\u001b[0;34m{\u001b[0m\u001b[0mk\u001b[0m\u001b[0;34m:\u001b[0m \u001b[0marg\u001b[0m \u001b[0;32mfor\u001b[0m \u001b[0mk\u001b[0m\u001b[0;34m,\u001b[0m \u001b[0marg\u001b[0m \u001b[0;32min\u001b[0m \u001b[0mzip\u001b[0m\u001b[0;34m(\u001b[0m\u001b[0msig\u001b[0m\u001b[0;34m.\u001b[0m\u001b[0mparameters\u001b[0m\u001b[0;34m,\u001b[0m \u001b[0margs\u001b[0m\u001b[0;34m)\u001b[0m\u001b[0;34m}\u001b[0m\u001b[0;34m)\u001b[0m\u001b[0;34m\u001b[0m\u001b[0;34m\u001b[0m\u001b[0m\n\u001b[0;32m--> 640\u001b[0;31m         \u001b[0;32mreturn\u001b[0m \u001b[0mf\u001b[0m\u001b[0;34m(\u001b[0m\u001b[0;34m**\u001b[0m\u001b[0mkwargs\u001b[0m\u001b[0;34m)\u001b[0m\u001b[0;34m\u001b[0m\u001b[0;34m\u001b[0m\u001b[0m\n\u001b[0m\u001b[1;32m    641\u001b[0m     \u001b[0;32mreturn\u001b[0m \u001b[0minner_f\u001b[0m\u001b[0;34m\u001b[0m\u001b[0;34m\u001b[0m\u001b[0m\n",
      "\u001b[0;31mTypeError\u001b[0m: __init__() got an unexpected keyword argument 'ratio'"
     ]
    }
   ],
   "source": [
    "#Oversampling the minority class \n",
    "df_ovsmpl = pd.concat([train_features, train_labels], axis=1)\n",
    "\n",
    "df_ovsmpl.shape\n",
    "\n",
    "sm_y = df_ovsmpl.SwellOneExit\n",
    "sm_x = df_ovsmpl.drop('SwellOneExit', axis=1)\n",
    "\n",
    "X_train, X_test, y_train, y_test = train_test_split(sm_x, sm_y, test_size=0.2, random_state=123)\n",
    "\n",
    "sm = SMOTE(random_state=123, ratio=27.0)\n",
    "X_train, y_train = sm.fit_sample(X_train, y_train)"
   ]
  },
  {
   "cell_type": "code",
   "execution_count": 29,
   "metadata": {},
   "outputs": [
    {
     "data": {
      "text/plain": [
       "0    17662\n",
       "1      731\n",
       "Name: SwellOneExit, dtype: int64"
      ]
     },
     "execution_count": 29,
     "metadata": {},
     "output_type": "execute_result"
    }
   ],
   "source": [
    "df_ovsmpl.SwellOneExit.value_counts()"
   ]
  },
  {
   "cell_type": "code",
   "execution_count": null,
   "metadata": {},
   "outputs": [],
   "source": [
    "outliers = ['DaysTSubmitNoMissing', 'AgeAtFDOSNoMissing', 'FirstYearsInSchoolNoMissing', 'SecondYearsInSchoolNoMissing',\n",
    "            'CMsInSchoolNoMissing', 'CertProgramCostNoMissing', 'CorpsSizeNoMissing', 'OtherCMsSameCoachNoMissing',\n",
    "            'OtherCMsPrevCoachNoMissing']"
   ]
  },
  {
   "cell_type": "code",
   "execution_count": 11,
   "metadata": {},
   "outputs": [],
   "source": [
    "import matplotlib as mpl \n",
    "\n",
    "import matplotlib.pyplot as plt "
   ]
  },
  {
   "cell_type": "code",
   "execution_count": 22,
   "metadata": {},
   "outputs": [
    {
     "data": {
      "image/png": "[encoded data removed]",
      "text/plain": [
       "<Figure size 648x432 with 1 Axes>"
      ]
     },
     "metadata": {
      "needs_background": "light"
     },
     "output_type": "display_data"
    }
   ],
   "source": [
    "# Create a figure instance\n",
    "fig = plt.figure(1, figsize=(9, 6))\n",
    "\n",
    "# Create an axes instance\n",
    "ax = fig.add_subplot(111)\n",
    "\n",
    "# Create the boxplot\n",
    "# outliers_df = df[outliers]\n",
    "bp = ax.boxplot(df['OtherCMsSameCoachNoMissing'])\n",
    "\n",
    "# Save the figure\n",
    "# fig.savefig('fig1.png', bbox_inches='tight')"
   ]
  }
 ],
 "metadata": {
  "kernelspec": {
   "display_name": "Python 3",
   "language": "python",
   "name": "python3"
  },
  "language_info": {
   "codemirror_mode": {
    "name": "ipython",
    "version": 3
   },
   "file_extension": ".py",
   "mimetype": "text/x-python",
   "name": "python",
   "nbconvert_exporter": "python",
   "pygments_lexer": "ipython3",
   "version": "3.7.6"
  }
 },
 "nbformat": 4,
 "nbformat_minor": 4
}
