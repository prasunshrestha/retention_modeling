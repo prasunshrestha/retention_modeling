{
 "cells": [
  {
   "cell_type": "code",
   "execution_count": 21,
   "metadata": {},
   "outputs": [],
   "source": [
    "import imblearn\n",
    "import pandas as pd\n",
    "import numpy as np\n",
    "from sklearn.linear_model import LogisticRegression\n",
    "from sklearn.model_selection import train_test_split\n",
    "from sklearn.model_selection import StratifiedKFold\n",
    "from sklearn.metrics import r2_score\n",
    "from sklearn.metrics import roc_auc_score\n",
    "from sklearn.metrics import confusion_matrix\n",
    "from sklearn.metrics import accuracy_score\n",
    "from sklearn.metrics import precision_score\n",
    "from sklearn.metrics import recall_score\n",
    "from sklearn.metrics import f1_score\n",
    "import xgboost as xgb\n",
    "from sklearn.model_selection import GridSearchCV\n",
    "from sklearn.preprocessing import StandardScaler\n",
    "from imblearn.over_sampling import SMOTE\n",
    "from sklearn.model_selection import StratifiedKFold\n",
    "from sklearn.utils import resample\n",
    "pd.set_option('display.max_columns', 500)"
   ]
  },
  {
   "cell_type": "code",
   "execution_count": 2,
   "metadata": {},
   "outputs": [
    {
     "name": "stderr",
     "output_type": "stream",
     "text": [
      "C:\\Users\\sriesenberg\\anaconda3\\lib\\site-packages\\IPython\\core\\interactiveshell.py:3058: DtypeWarning: Columns (15,16,27,31,45,66,83,110,128,129,165,167,175) have mixed types. Specify dtype option on import or set low_memory=False.\n",
      "  interactivity=interactivity, compiler=compiler, result=result)\n"
     ]
    }
   ],
   "source": [
    "df = pd.read_csv('T2.csv')"
   ]
  },
  {
   "cell_type": "code",
   "execution_count": 3,
   "metadata": {},
   "outputs": [],
   "source": [
    "predictor_vars = ['YearsAsCoach', 'DaysTSubmitNoMissing',\n",
    "       'FitNoMissing', 'RelationshipBuildingNoMissing',\n",
    "       'FinalAchievementNoMissing', 'CommAndPresNoMissing',\n",
    "       'PredModelScoreNoMissing', 'CMProspectRatingNoMissing',\n",
    "       'AgeAtFDOSNoMissing', 'SchoolSelectivityNoMissing',\n",
    "       'CumuGPANoMissing', 'PerseveranceNoMissing', 'FRPLNoMissing',\n",
    "       'YearsSchoolPartnerNoMissing', 'YearsPartnerPartnerNoMissing',\n",
    "       'FirstYearsInSchoolNoMissing', 'SecondYearsInSchoolNoMissing',\n",
    "       'CMsInSchoolNoMissing', 'CertProgramCostNoMissing',\n",
    "       'AvgFirstMonthSalNoMissing', 'RentPropNoMissing',\n",
    "       'AvgRentNoMissing', 'CorpsSizeNoMissing', 'RegPrefLevNoMissing',\n",
    "       'CSI6NoMissing', 'CSI5NoMissing', 'CSI3NoMissing',\n",
    "       'CSI12NoMissing', 'CLI8NoMissing', 'CLI6NoMissing',\n",
    "       'OtherCMsSameCoachNoMissing', 'OtherCMsPrevCoachNoMissing',\n",
    "       'K12TeachNo', 'K12TeachYes', 'K12TeachNull', 'HadFamRespNo',\n",
    "       'HadFamRespYes', 'HadFamRespNull', 'PellGrantNoOrMissing',\n",
    "       'PellGrantYes', 'GenderFemale', 'GenderMale', 'CalcGradStudent',\n",
    "       'CalcJunior', 'CalcProfessional', 'CalcUndergrad', 'CalcUnknown',\n",
    "       'AttendLIC_HS_No', 'AttendLIC_HS_Yes', 'AttendLIC_HS_Unknown',\n",
    "       'GrewUpLIC_No_Or_Unknown', 'GrewUpLIC_Yes',\n",
    "       'LIC_Served_No_Or_Unknown', 'LIC_Served_Yes', 'Eth_Black',\n",
    "       'Eth_Native', 'Eth_AsianAmPacIsl', 'Eth_Latinx',\n",
    "       'Eth_MultiEthMultiRacial', 'Eth_OtherOrUnknown', 'Eth_White',\n",
    "       'VarsitySport_No_Or_Unknown', 'VarsitySport_Yes',\n",
    "       'DeferralRequested', 'DeferralNotRequested', 'Title1No',\n",
    "       'Title1Yes', 'Grade_ECE', 'Grade_HIGH', 'Grade_LOWELEM',\n",
    "       'Grade_MIDDLE', 'Grade_UPPERELEM', 'Grade_Unknown',\n",
    "       'School_Charter', 'School_Public', 'School_Other', 'LGB_NoProtect',\n",
    "       'LGB_LocalProtect', 'LGB_StateProtect', 'TeacherPP_No',\n",
    "       'TeacherPP_Yes', 'Region_Large', 'Region_Medium', 'Region_Small',\n",
    "       'Urbanicity_Both', 'Urbanicity_Rural', 'Urbanicity_Urban',\n",
    "       'COL_High', 'COL_Low', 'COL_Medium', 'MajorTeaching_Match',\n",
    "       'MajorTeaching_Mismatch', 'MajorOffered_Match',\n",
    "       'MajorOffered_Mismatch']"
   ]
  },
  {
   "cell_type": "code",
   "execution_count": 4,
   "metadata": {},
   "outputs": [
    {
     "name": "stdout",
     "output_type": "stream",
     "text": [
      "accuracy 0.7436399217221135 recall 0.3128491620111732 precision 0.050359712230215826\n",
      "[[3364 1056]\n",
      " [ 123   56]]\n"
     ]
    }
   ],
   "source": [
    "# training with no scaling or oversampling\n",
    "ind_vars = df[predictor_vars]\n",
    "label = df['SwellOneExit']\n",
    "\n",
    "train_features, test_features, train_labels, test_labels = train_test_split(ind_vars, label, test_size = 0.2, stratify=label)\n",
    "ratio_neg_pos = (len(test_labels) - test_labels.sum()) / test_labels.sum()\n",
    "\n",
    "model = xgb.XGBClassifier(scale_pos_weight = ratio_neg_pos)\n",
    "model.fit(train_features, train_labels)\n",
    "y_pred = model.predict(test_features)\n",
    "acc_score = accuracy_score(test_labels, y_pred)\n",
    "rec_score = recall_score(test_labels, y_pred)\n",
    "r2 = r2_score(test_labels, y_pred)\n",
    "precision = precision_score(test_labels, y_pred)\n",
    "print('accuracy', acc_score, 'recall', rec_score, 'precision', precision)\n",
    "print(confusion_matrix(test_labels, y_pred))"
   ]
  },
  {
   "cell_type": "code",
   "execution_count": 5,
   "metadata": {},
   "outputs": [
    {
     "name": "stdout",
     "output_type": "stream",
     "text": [
      "accuracy 0.7673407262448358 recall 0.4134078212290503 precision 0.0712223291626564\n",
      "[[3455  965]\n",
      " [ 105   74]]\n"
     ]
    }
   ],
   "source": [
    "# training with scaling but still no oversampling\n",
    "ind_vars = df[predictor_vars]\n",
    "label = df['SwellOneExit']\n",
    "\n",
    "ind_vars = StandardScaler().fit_transform(ind_vars)\n",
    "train_features, test_features, train_labels, test_labels = train_test_split(ind_vars, label, test_size = 0.2, stratify=label)\n",
    "ratio_neg_pos = (len(test_labels) - test_labels.sum()) / test_labels.sum()\n",
    "\n",
    "model = xgb.XGBClassifier(scale_pos_weight = ratio_neg_pos)\n",
    "model.fit(train_features, train_labels)\n",
    "y_pred = model.predict(test_features)\n",
    "acc_score = accuracy_score(test_labels, y_pred)\n",
    "rec_score = recall_score(test_labels, y_pred)\n",
    "r2 = r2_score(test_labels, y_pred)\n",
    "precision = precision_score(test_labels, y_pred)\n",
    "print('accuracy', acc_score, 'recall', rec_score, 'precision', precision)\n",
    "print(confusion_matrix(test_labels, y_pred))"
   ]
  },
  {
   "cell_type": "code",
   "execution_count": 6,
   "metadata": {},
   "outputs": [
    {
     "name": "stdout",
     "output_type": "stream",
     "text": [
      "before oversampling label counts: \n",
      " 0    17676\n",
      "1      717\n",
      "Name: SwellOneExit, dtype: int64\n",
      "after label counts \n",
      " 1    17676\n",
      "0    17676\n",
      "dtype: int64\n",
      "accuracy 0.9599913024570559 recall 0.0 precision 0.0\n",
      "[[4415    5]\n",
      " [ 179    0]]\n"
     ]
    }
   ],
   "source": [
    "# with SMOTE oversampling\n",
    "ind_vars = df[predictor_vars]\n",
    "label = df['SwellOneExit']\n",
    "\n",
    "ind_vars = StandardScaler().fit_transform(ind_vars)\n",
    "train_features, test_features, train_labels, test_labels = train_test_split(ind_vars, label, test_size = 0.2, stratify=label)\n",
    "\n",
    "print('before oversampling label counts:', '\\n', train_labels.value_counts())\n",
    "oversample = SMOTE()\n",
    "train_features, train_labels = oversample.fit_resample(train_features, train_labels)\n",
    "print('after label counts', '\\n', pd.Series(train_labels).value_counts())\n",
    "\n",
    "model = xgb.XGBClassifier()\n",
    "model.fit(train_features, train_labels)\n",
    "y_pred = model.predict(test_features)\n",
    "acc_score = accuracy_score(test_labels, y_pred)\n",
    "rec_score = recall_score(test_labels, y_pred)\n",
    "r2 = r2_score(test_labels, y_pred)\n",
    "precision = precision_score(test_labels, y_pred)\n",
    "print('accuracy', acc_score, 'recall', rec_score, 'precision', precision)\n",
    "print(confusion_matrix(test_labels, y_pred))"
   ]
  },
  {
   "cell_type": "code",
   "execution_count": 7,
   "metadata": {},
   "outputs": [
    {
     "name": "stdout",
     "output_type": "stream",
     "text": [
      "before oversampling label counts: \n",
      " 0    17676\n",
      "1      717\n",
      "Name: SwellOneExit, dtype: int64\n",
      "after label counts \n",
      " 1    17676\n",
      "0    17676\n",
      "dtype: int64\n",
      "accuracy 0.7747336377473364 recall 0.3687150837988827 precision 0.06673407482305359\n",
      "[[3497  923]\n",
      " [ 113   66]]\n"
     ]
    }
   ],
   "source": [
    "ind_vars = df[predictor_vars]\n",
    "label = df['SwellOneExit']\n",
    "\n",
    "ind_vars = StandardScaler().fit_transform(ind_vars)\n",
    "train_features, test_features, train_labels, test_labels = train_test_split(ind_vars, label, test_size = 0.2, stratify=label)\n",
    "\n",
    "print('before oversampling label counts:', '\\n', train_labels.value_counts())\n",
    "oversample = SMOTE()\n",
    "train_features, train_labels = oversample.fit_resample(train_features, train_labels)\n",
    "print('after label counts', '\\n', pd.Series(train_labels).value_counts())\n",
    "\n",
    "model = xgb.XGBClassifier(scale_pos_weight = 10)\n",
    "model.fit(train_features, train_labels)\n",
    "y_pred = model.predict(test_features)\n",
    "acc_score = accuracy_score(test_labels, y_pred)\n",
    "rec_score = recall_score(test_labels, y_pred)\n",
    "r2 = r2_score(test_labels, y_pred)\n",
    "precision = precision_score(test_labels, y_pred)\n",
    "print('accuracy', acc_score, 'recall', rec_score, 'precision', precision)\n",
    "print(confusion_matrix(test_labels, y_pred))"
   ]
  },
  {
   "cell_type": "code",
   "execution_count": 43,
   "metadata": {},
   "outputs": [
    {
     "ename": "KeyboardInterrupt",
     "evalue": "",
     "output_type": "error",
     "traceback": [
      "\u001b[1;31m---------------------------------------------------------------------------\u001b[0m",
      "\u001b[1;31mKeyboardInterrupt\u001b[0m                         Traceback (most recent call last)",
      "\u001b[1;32m<ipython-input-43-e8b0e79d9b59>\u001b[0m in \u001b[0;36m<module>\u001b[1;34m\u001b[0m\n\u001b[0;32m     35\u001b[0m \u001b[1;33m\u001b[0m\u001b[0m\n\u001b[0;32m     36\u001b[0m     \u001b[1;31m# train model\u001b[0m\u001b[1;33m\u001b[0m\u001b[1;33m\u001b[0m\u001b[1;33m\u001b[0m\u001b[0m\n\u001b[1;32m---> 37\u001b[1;33m     \u001b[0mlr_upsampled_mdl\u001b[0m \u001b[1;33m=\u001b[0m \u001b[0mlr_upsampled\u001b[0m\u001b[1;33m.\u001b[0m\u001b[0mfit\u001b[0m\u001b[1;33m(\u001b[0m\u001b[0mupsmpl_X\u001b[0m\u001b[1;33m,\u001b[0m \u001b[0mupsmpl_Y\u001b[0m\u001b[1;33m)\u001b[0m\u001b[1;33m\u001b[0m\u001b[1;33m\u001b[0m\u001b[0m\n\u001b[0m\u001b[0;32m     38\u001b[0m     \u001b[0mlr_upsampled_pred\u001b[0m \u001b[1;33m=\u001b[0m \u001b[0mlr_upsampled_mdl\u001b[0m\u001b[1;33m.\u001b[0m\u001b[0mpredict\u001b[0m\u001b[1;33m(\u001b[0m\u001b[0mtest_features\u001b[0m\u001b[1;33m)\u001b[0m\u001b[1;33m\u001b[0m\u001b[1;33m\u001b[0m\u001b[0m\n\u001b[0;32m     39\u001b[0m     \u001b[0mprecision_list\u001b[0m\u001b[1;33m.\u001b[0m\u001b[0mappend\u001b[0m\u001b[1;33m(\u001b[0m\u001b[0mprecision_score\u001b[0m\u001b[1;33m(\u001b[0m\u001b[0mtest_labels\u001b[0m\u001b[1;33m,\u001b[0m \u001b[0mlr_upsampled_pred\u001b[0m\u001b[1;33m,\u001b[0m \u001b[0maverage\u001b[0m\u001b[1;33m=\u001b[0m\u001b[1;34m'weighted'\u001b[0m\u001b[1;33m)\u001b[0m\u001b[1;33m)\u001b[0m\u001b[1;33m\u001b[0m\u001b[1;33m\u001b[0m\u001b[0m\n",
      "\u001b[1;32m~\\anaconda3\\lib\\site-packages\\sklearn\\linear_model\\logistic.py\u001b[0m in \u001b[0;36mfit\u001b[1;34m(self, X, y, sample_weight)\u001b[0m\n\u001b[0;32m   1547\u001b[0m                 \u001b[0mself\u001b[0m\u001b[1;33m.\u001b[0m\u001b[0mclass_weight\u001b[0m\u001b[1;33m,\u001b[0m \u001b[0mself\u001b[0m\u001b[1;33m.\u001b[0m\u001b[0mpenalty\u001b[0m\u001b[1;33m,\u001b[0m \u001b[0mself\u001b[0m\u001b[1;33m.\u001b[0m\u001b[0mdual\u001b[0m\u001b[1;33m,\u001b[0m \u001b[0mself\u001b[0m\u001b[1;33m.\u001b[0m\u001b[0mverbose\u001b[0m\u001b[1;33m,\u001b[0m\u001b[1;33m\u001b[0m\u001b[1;33m\u001b[0m\u001b[0m\n\u001b[0;32m   1548\u001b[0m                 \u001b[0mself\u001b[0m\u001b[1;33m.\u001b[0m\u001b[0mmax_iter\u001b[0m\u001b[1;33m,\u001b[0m \u001b[0mself\u001b[0m\u001b[1;33m.\u001b[0m\u001b[0mtol\u001b[0m\u001b[1;33m,\u001b[0m \u001b[0mself\u001b[0m\u001b[1;33m.\u001b[0m\u001b[0mrandom_state\u001b[0m\u001b[1;33m,\u001b[0m\u001b[1;33m\u001b[0m\u001b[1;33m\u001b[0m\u001b[0m\n\u001b[1;32m-> 1549\u001b[1;33m                 sample_weight=sample_weight)\n\u001b[0m\u001b[0;32m   1550\u001b[0m             \u001b[0mself\u001b[0m\u001b[1;33m.\u001b[0m\u001b[0mn_iter_\u001b[0m \u001b[1;33m=\u001b[0m \u001b[0mnp\u001b[0m\u001b[1;33m.\u001b[0m\u001b[0marray\u001b[0m\u001b[1;33m(\u001b[0m\u001b[1;33m[\u001b[0m\u001b[0mn_iter_\u001b[0m\u001b[1;33m]\u001b[0m\u001b[1;33m)\u001b[0m\u001b[1;33m\u001b[0m\u001b[1;33m\u001b[0m\u001b[0m\n\u001b[0;32m   1551\u001b[0m             \u001b[1;32mreturn\u001b[0m \u001b[0mself\u001b[0m\u001b[1;33m\u001b[0m\u001b[1;33m\u001b[0m\u001b[0m\n",
      "\u001b[1;32m~\\anaconda3\\lib\\site-packages\\sklearn\\svm\\base.py\u001b[0m in \u001b[0;36m_fit_liblinear\u001b[1;34m(X, y, C, fit_intercept, intercept_scaling, class_weight, penalty, dual, verbose, max_iter, tol, random_state, multi_class, loss, epsilon, sample_weight)\u001b[0m\n\u001b[0;32m    919\u001b[0m         \u001b[0mX\u001b[0m\u001b[1;33m,\u001b[0m \u001b[0my_ind\u001b[0m\u001b[1;33m,\u001b[0m \u001b[0msp\u001b[0m\u001b[1;33m.\u001b[0m\u001b[0misspmatrix\u001b[0m\u001b[1;33m(\u001b[0m\u001b[0mX\u001b[0m\u001b[1;33m)\u001b[0m\u001b[1;33m,\u001b[0m \u001b[0msolver_type\u001b[0m\u001b[1;33m,\u001b[0m \u001b[0mtol\u001b[0m\u001b[1;33m,\u001b[0m \u001b[0mbias\u001b[0m\u001b[1;33m,\u001b[0m \u001b[0mC\u001b[0m\u001b[1;33m,\u001b[0m\u001b[1;33m\u001b[0m\u001b[1;33m\u001b[0m\u001b[0m\n\u001b[0;32m    920\u001b[0m         \u001b[0mclass_weight_\u001b[0m\u001b[1;33m,\u001b[0m \u001b[0mmax_iter\u001b[0m\u001b[1;33m,\u001b[0m \u001b[0mrnd\u001b[0m\u001b[1;33m.\u001b[0m\u001b[0mrandint\u001b[0m\u001b[1;33m(\u001b[0m\u001b[0mnp\u001b[0m\u001b[1;33m.\u001b[0m\u001b[0miinfo\u001b[0m\u001b[1;33m(\u001b[0m\u001b[1;34m'i'\u001b[0m\u001b[1;33m)\u001b[0m\u001b[1;33m.\u001b[0m\u001b[0mmax\u001b[0m\u001b[1;33m)\u001b[0m\u001b[1;33m,\u001b[0m\u001b[1;33m\u001b[0m\u001b[1;33m\u001b[0m\u001b[0m\n\u001b[1;32m--> 921\u001b[1;33m         epsilon, sample_weight)\n\u001b[0m\u001b[0;32m    922\u001b[0m     \u001b[1;31m# Regarding rnd.randint(..) in the above signature:\u001b[0m\u001b[1;33m\u001b[0m\u001b[1;33m\u001b[0m\u001b[1;33m\u001b[0m\u001b[0m\n\u001b[0;32m    923\u001b[0m     \u001b[1;31m# seed for srand in range [0..INT_MAX); due to limitations in Numpy\u001b[0m\u001b[1;33m\u001b[0m\u001b[1;33m\u001b[0m\u001b[1;33m\u001b[0m\u001b[0m\n",
      "\u001b[1;31mKeyboardInterrupt\u001b[0m: "
     ]
    }
   ],
   "source": [
    "from sklearn.model_selection import StratifiedKFold\n",
    "skf = StratifiedKFold(n_splits=5, shuffle=False)\n",
    "\n",
    "X = df[predictor_vars]\n",
    "Y = df['SwellOneExit']\n",
    "\n",
    "recall_list = []\n",
    "precision_list = []\n",
    "f1_list = []\n",
    "confusion_list = []\n",
    "\n",
    "for train_index, test_index in skf.split(X, Y):\n",
    "    train_features, test_features = X.iloc[train_index, :], X.iloc[test_index, :]\n",
    "    train_labels, test_labels = Y[train_index], Y[test_index]\n",
    "    \n",
    "    # oversample\n",
    "    df_ovsmpl = pd.concat([train_features, train_labels], axis=1)\n",
    "    df_majority = df_ovsmpl[df_ovsmpl.SwellOneExit==0]\n",
    "    df_minority = df_ovsmpl[df_ovsmpl.SwellOneExit==1]\n",
    "    # Upsample minority class\n",
    "    df_minority_upsampled = resample(df_minority, \n",
    "                                     replace=True,     # sample with replacement\n",
    "                                     n_samples=len(df_majority),    # to match majority class\n",
    "                                     random_state=123) # reproducible results\n",
    "    # Combine majority class with upsampled minority class\n",
    "    df_upsampled = pd.concat([df_majority, df_minority_upsampled])\n",
    "    upsmpl_Y = df_upsampled['SwellOneExit']\n",
    "    upsmpl_X = df_upsampled.drop('SwellOneExit', axis=1)\n",
    "\n",
    "    # training test split of the oversampled dataframe\n",
    "\n",
    "#     upsmpl_train_features, upsmpl_test_features, upsmpl_train_labels, upsmpl_test_labels = \\\n",
    "#     train_test_split(upsmpl_X, upsmpl_Y, test_size = 0.2, random_state=123)\n",
    "    lr_upsampled = LogisticRegression(solver='liblinear')\n",
    "\n",
    "    # train model\n",
    "    lr_upsampled_mdl = lr_upsampled.fit(upsmpl_X, upsmpl_Y)\n",
    "    lr_upsampled_pred = lr_upsampled_mdl.predict(test_features)\n",
    "    precision_list.append(precision_score(test_labels, lr_upsampled_pred, average='weighted'))\n",
    "    recall_list.append(recall_score(test_labels, lr_upsampled_pred))\n",
    "    f1_list.append(f1_score(test_labels, lr_upsampled_pred))\n",
    "    confusion_list.append(confusion_matrix(test_labels, lr_upsampled_pred))"
   ]
  },
  {
   "cell_type": "code",
   "execution_count": 40,
   "metadata": {},
   "outputs": [
    {
     "data": {
      "text/plain": [
       "[0.49444444444444446,\n",
       " 0.547486033519553,\n",
       " 0.4860335195530726,\n",
       " 0.48044692737430167,\n",
       " 0.5027932960893855]"
      ]
     },
     "execution_count": 40,
     "metadata": {},
     "output_type": "execute_result"
    }
   ],
   "source": [
    "recall_list"
   ]
  },
  {
   "cell_type": "code",
   "execution_count": 41,
   "metadata": {},
   "outputs": [
    {
     "data": {
      "text/plain": [
       "[0.9325452447027485,\n",
       " 0.9371819420746383,\n",
       " 0.9339276724140311,\n",
       " 0.9330324155465521,\n",
       " 0.9342676880518695]"
      ]
     },
     "execution_count": 41,
     "metadata": {},
     "output_type": "execute_result"
    }
   ],
   "source": [
    "precision_list"
   ]
  },
  {
   "cell_type": "code",
   "execution_count": 42,
   "metadata": {},
   "outputs": [
    {
     "data": {
      "text/plain": [
       "[0.0937335439705108,\n",
       " 0.10834715312327252,\n",
       " 0.09897610921501707,\n",
       " 0.09518539014941892,\n",
       " 0.09884678747940692]"
      ]
     },
     "execution_count": 42,
     "metadata": {},
     "output_type": "execute_result"
    }
   ],
   "source": [
    "f1_list"
   ]
  },
  {
   "cell_type": "code",
   "execution_count": 38,
   "metadata": {},
   "outputs": [
    {
     "name": "stdout",
     "output_type": "stream",
     "text": [
      "[[1724 2696]\n",
      " [  55  125]]\n",
      "[[3040 1379]\n",
      " [  87   92]]\n",
      "[[2570 1849]\n",
      " [  87   92]]\n",
      "[[3252 1167]\n",
      " [ 108   71]]\n",
      "[[2743 1676]\n",
      " [  80   99]]\n"
     ]
    }
   ],
   "source": [
    "for i in confusion_list:\n",
    "    print(i)"
   ]
  },
  {
   "cell_type": "code",
   "execution_count": null,
   "metadata": {},
   "outputs": [],
   "source": []
  }
 ],
 "metadata": {
  "kernelspec": {
   "display_name": "Python 3",
   "language": "python",
   "name": "python3"
  },
  "language_info": {
   "codemirror_mode": {
    "name": "ipython",
    "version": 3
   },
   "file_extension": ".py",
   "mimetype": "text/x-python",
   "name": "python",
   "nbconvert_exporter": "python",
   "pygments_lexer": "ipython3",
   "version": "3.7.4"
  }
 },
 "nbformat": 4,
 "nbformat_minor": 2
}
