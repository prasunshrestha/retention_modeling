{
 "cells": [
  {
   "cell_type": "code",
   "execution_count": 17,
   "metadata": {},
   "outputs": [],
   "source": [
    "import imblearn\n",
    "import pandas as pd\n",
    "import numpy as np\n",
    "from sklearn.linear_model import LogisticRegression\n",
    "from sklearn.model_selection import train_test_split\n",
    "from sklearn.model_selection import StratifiedKFold\n",
    "from sklearn.metrics import r2_score\n",
    "from sklearn.metrics import roc_auc_score\n",
    "from sklearn.metrics import confusion_matrix\n",
    "from sklearn.metrics import accuracy_score\n",
    "from sklearn.metrics import precision_score\n",
    "from sklearn.metrics import recall_score\n",
    "import xgboost as xgb\n",
    "from sklearn.model_selection import GridSearchCV\n",
    "from sklearn.preprocessing import StandardScaler\n",
    "from imblearn.over_sampling import SMOTE\n",
    "pd.set_option('display.max_columns', 500)"
   ]
  },
  {
   "cell_type": "code",
   "execution_count": 6,
   "metadata": {},
   "outputs": [
    {
     "name": "stderr",
     "output_type": "stream",
     "text": [
      "C:\\Users\\sriesenberg\\anaconda3\\lib\\site-packages\\IPython\\core\\interactiveshell.py:3058: DtypeWarning: Columns (15,16,27,31,45,66,83,110,128,129,165,167,175) have mixed types. Specify dtype option on import or set low_memory=False.\n",
      "  interactivity=interactivity, compiler=compiler, result=result)\n"
     ]
    }
   ],
   "source": [
    "df = pd.read_csv('T2.csv')"
   ]
  },
  {
   "cell_type": "code",
   "execution_count": 7,
   "metadata": {},
   "outputs": [],
   "source": [
    "predictor_vars = ['YearsAsCoach', 'DaysTSubmitNoMissing',\n",
    "       'FitNoMissing', 'RelationshipBuildingNoMissing',\n",
    "       'FinalAchievementNoMissing', 'CommAndPresNoMissing',\n",
    "       'PredModelScoreNoMissing', 'CMProspectRatingNoMissing',\n",
    "       'AgeAtFDOSNoMissing', 'SchoolSelectivityNoMissing',\n",
    "       'CumuGPANoMissing', 'PerseveranceNoMissing', 'FRPLNoMissing',\n",
    "       'YearsSchoolPartnerNoMissing', 'YearsPartnerPartnerNoMissing',\n",
    "       'FirstYearsInSchoolNoMissing', 'SecondYearsInSchoolNoMissing',\n",
    "       'CMsInSchoolNoMissing', 'CertProgramCostNoMissing',\n",
    "       'AvgFirstMonthSalNoMissing', 'RentPropNoMissing',\n",
    "       'AvgRentNoMissing', 'CorpsSizeNoMissing', 'RegPrefLevNoMissing',\n",
    "       'CSI6NoMissing', 'CSI5NoMissing', 'CSI3NoMissing',\n",
    "       'CSI12NoMissing', 'CLI8NoMissing', 'CLI6NoMissing',\n",
    "       'OtherCMsSameCoachNoMissing', 'OtherCMsPrevCoachNoMissing',\n",
    "       'K12TeachNo', 'K12TeachYes', 'K12TeachNull', 'HadFamRespNo',\n",
    "       'HadFamRespYes', 'HadFamRespNull', 'PellGrantNoOrMissing',\n",
    "       'PellGrantYes', 'GenderFemale', 'GenderMale', 'CalcGradStudent',\n",
    "       'CalcJunior', 'CalcProfessional', 'CalcUndergrad', 'CalcUnknown',\n",
    "       'AttendLIC_HS_No', 'AttendLIC_HS_Yes', 'AttendLIC_HS_Unknown',\n",
    "       'GrewUpLIC_No_Or_Unknown', 'GrewUpLIC_Yes',\n",
    "       'LIC_Served_No_Or_Unknown', 'LIC_Served_Yes', 'Eth_Black',\n",
    "       'Eth_Native', 'Eth_AsianAmPacIsl', 'Eth_Latinx',\n",
    "       'Eth_MultiEthMultiRacial', 'Eth_OtherOrUnknown', 'Eth_White',\n",
    "       'VarsitySport_No_Or_Unknown', 'VarsitySport_Yes',\n",
    "       'DeferralRequested', 'DeferralNotRequested', 'Title1No',\n",
    "       'Title1Yes', 'Grade_ECE', 'Grade_HIGH', 'Grade_LOWELEM',\n",
    "       'Grade_MIDDLE', 'Grade_UPPERELEM', 'Grade_Unknown',\n",
    "       'School_Charter', 'School_Public', 'School_Other', 'LGB_NoProtect',\n",
    "       'LGB_LocalProtect', 'LGB_StateProtect', 'TeacherPP_No',\n",
    "       'TeacherPP_Yes', 'Region_Large', 'Region_Medium', 'Region_Small',\n",
    "       'Urbanicity_Both', 'Urbanicity_Rural', 'Urbanicity_Urban',\n",
    "       'COL_High', 'COL_Low', 'COL_Medium', 'MajorTeaching_Match',\n",
    "       'MajorTeaching_Mismatch', 'MajorOffered_Match',\n",
    "       'MajorOffered_Mismatch']"
   ]
  },
  {
   "cell_type": "code",
   "execution_count": 11,
   "metadata": {},
   "outputs": [
    {
     "name": "stdout",
     "output_type": "stream",
     "text": [
      "accuracy 0.7523374646662317 recall 0.40782122905027934 precision 0.06600361663652803\n",
      "[[3387 1033]\n",
      " [ 106   73]]\n"
     ]
    }
   ],
   "source": [
    "# training with no scaling or oversampling\n",
    "ind_vars = df[predictor_vars]\n",
    "label = df['SwellOneExit']\n",
    "\n",
    "train_features, test_features, train_labels, test_labels = train_test_split(ind_vars, label, test_size = 0.2, stratify=label)\n",
    "ratio_neg_pos = (len(test_labels) - test_labels.sum()) / test_labels.sum()\n",
    "\n",
    "model = xgb.XGBClassifier(scale_pos_weight = ratio_neg_pos)\n",
    "model.fit(train_features, train_labels)\n",
    "y_pred = model.predict(test_features)\n",
    "acc_score = accuracy_score(test_labels, y_pred)\n",
    "rec_score = recall_score(test_labels, y_pred)\n",
    "r2 = r2_score(test_labels, y_pred)\n",
    "precision = precision_score(test_labels, y_pred)\n",
    "print('accuracy', acc_score, 'recall', rec_score, 'precision', precision)\n",
    "print(confusion_matrix(test_labels, y_pred))"
   ]
  },
  {
   "cell_type": "code",
   "execution_count": 16,
   "metadata": {},
   "outputs": [
    {
     "name": "stdout",
     "output_type": "stream",
     "text": [
      "accuracy 0.7475538160469667 recall 0.3854748603351955 precision 0.06160714285714286\n",
      "[[3369 1051]\n",
      " [ 110   69]]\n"
     ]
    }
   ],
   "source": [
    "# training with scaling but still no oversampling\n",
    "ind_vars = df[predictor_vars]\n",
    "label = df['SwellOneExit']\n",
    "\n",
    "ind_vars = StandardScaler().fit_transform(ind_vars)\n",
    "train_features, test_features, train_labels, test_labels = train_test_split(ind_vars, label, test_size = 0.2, stratify=label)\n",
    "ratio_neg_pos = (len(test_labels) - test_labels.sum()) / test_labels.sum()\n",
    "\n",
    "model = xgb.XGBClassifier(scale_pos_weight = ratio_neg_pos)\n",
    "model.fit(train_features, train_labels)\n",
    "y_pred = model.predict(test_features)\n",
    "acc_score = accuracy_score(test_labels, y_pred)\n",
    "rec_score = recall_score(test_labels, y_pred)\n",
    "r2 = r2_score(test_labels, y_pred)\n",
    "precision = precision_score(test_labels, y_pred)\n",
    "print('accuracy', acc_score, 'recall', rec_score, 'precision', precision)\n",
    "print(confusion_matrix(test_labels, y_pred))"
   ]
  },
  {
   "cell_type": "code",
   "execution_count": 27,
   "metadata": {},
   "outputs": [
    {
     "name": "stdout",
     "output_type": "stream",
     "text": [
      "before oversampling label counts: \n",
      " 0    17676\n",
      "1      717\n",
      "Name: SwellOneExit, dtype: int64\n",
      "after label counts \n",
      " 1    17676\n",
      "0    17676\n",
      "dtype: int64\n",
      "accuracy 0.9606436181778647 recall 0.0 precision 0.0\n",
      "[[4418    2]\n",
      " [ 179    0]]\n"
     ]
    }
   ],
   "source": [
    "# with SMOTE oversampling\n",
    "ind_vars = df[predictor_vars]\n",
    "label = df['SwellOneExit']\n",
    "\n",
    "ind_vars = StandardScaler().fit_transform(ind_vars)\n",
    "train_features, test_features, train_labels, test_labels = train_test_split(ind_vars, label, test_size = 0.2, stratify=label)\n",
    "\n",
    "print('before oversampling label counts:', '\\n', train_labels.value_counts())\n",
    "oversample = SMOTE()\n",
    "train_features, train_labels = oversample.fit_resample(train_features, train_labels)\n",
    "print('after label counts', '\\n', pd.Series(train_labels).value_counts())\n",
    "\n",
    "model = xgb.XGBClassifier()\n",
    "model.fit(train_features, train_labels)\n",
    "y_pred = model.predict(test_features)\n",
    "acc_score = accuracy_score(test_labels, y_pred)\n",
    "rec_score = recall_score(test_labels, y_pred)\n",
    "r2 = r2_score(test_labels, y_pred)\n",
    "precision = precision_score(test_labels, y_pred)\n",
    "print('accuracy', acc_score, 'recall', rec_score, 'precision', precision)\n",
    "print(confusion_matrix(test_labels, y_pred))"
   ]
  },
  {
   "cell_type": "code",
   "execution_count": 29,
   "metadata": {},
   "outputs": [
    {
     "name": "stdout",
     "output_type": "stream",
     "text": [
      "before oversampling label counts: \n",
      " 0    17676\n",
      "1      717\n",
      "Name: SwellOneExit, dtype: int64\n",
      "after label counts \n",
      " 1    17676\n",
      "0    17676\n",
      "dtype: int64\n",
      "accuracy 0.7692976734072624 recall 0.39664804469273746 precision 0.0693359375\n",
      "[[3467  953]\n",
      " [ 108   71]]\n"
     ]
    }
   ],
   "source": [
    "ind_vars = df[predictor_vars]\n",
    "label = df['SwellOneExit']\n",
    "\n",
    "ind_vars = StandardScaler().fit_transform(ind_vars)\n",
    "train_features, test_features, train_labels, test_labels = train_test_split(ind_vars, label, test_size = 0.2, stratify=label)\n",
    "\n",
    "print('before oversampling label counts:', '\\n', train_labels.value_counts())\n",
    "oversample = SMOTE()\n",
    "train_features, train_labels = oversample.fit_resample(train_features, train_labels)\n",
    "print('after label counts', '\\n', pd.Series(train_labels).value_counts())\n",
    "\n",
    "model = xgb.XGBClassifier(scale_pos_weight = 10)\n",
    "model.fit(train_features, train_labels)\n",
    "y_pred = model.predict(test_features)\n",
    "acc_score = accuracy_score(test_labels, y_pred)\n",
    "rec_score = recall_score(test_labels, y_pred)\n",
    "r2 = r2_score(test_labels, y_pred)\n",
    "precision = precision_score(test_labels, y_pred)\n",
    "print('accuracy', acc_score, 'recall', rec_score, 'precision', precision)\n",
    "print(confusion_matrix(test_labels, y_pred))"
   ]
  },
  {
   "cell_type": "code",
   "execution_count": null,
   "metadata": {},
   "outputs": [],
   "source": []
  }
 ],
 "metadata": {
  "kernelspec": {
   "display_name": "Python 3",
   "language": "python",
   "name": "python3"
  },
  "language_info": {
   "codemirror_mode": {
    "name": "ipython",
    "version": 3
   },
   "file_extension": ".py",
   "mimetype": "text/x-python",
   "name": "python",
   "nbconvert_exporter": "python",
   "pygments_lexer": "ipython3",
   "version": "3.7.4"
  }
 },
 "nbformat": 4,
 "nbformat_minor": 2
}
